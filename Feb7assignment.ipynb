{
 "cells": [
  {
   "cell_type": "markdown",
   "id": "af7083c9-d225-4785-9c4c-d9a6334d58cd",
   "metadata": {},
   "source": [
    "Q1. You are writing code for a company. The requirement of the company is that you create a python\n",
    "function that will check whether the password entered by the user is correct or not. The function should\n",
    "take the password as input and return the string “Valid Password” if the entered password follows the\n",
    "below-given password guidelines else it should return “Invalid Password”.\n",
    "Note: \n",
    "1. The Password should contain at least two uppercase letters and at least two lowercase letters.\n",
    "2. The Password should contain at least a number and three special characters.\n",
    "3. The length of the password should be 10 characters long."
   ]
  },
  {
   "cell_type": "code",
   "execution_count": 7,
   "id": "5f462caa-1bef-4ddd-8199-a9ec03d147a4",
   "metadata": {},
   "outputs": [
    {
     "name": "stdin",
     "output_type": "stream",
     "text": [
      "Enter the password:  AbCd12!@#E\n"
     ]
    },
    {
     "name": "stdout",
     "output_type": "stream",
     "text": [
      "Valid Password\n"
     ]
    }
   ],
   "source": [
    "import re\n",
    "\n",
    "def check_password(password):\n",
    "    if len(password) != 10:\n",
    "        return \"Invalid Password\"\n",
    "    if len(re.findall(r'[A-Z]', password)) < 2:\n",
    "        return \"Invalid Password\"\n",
    "    if len(re.findall(r'[a-z]', password)) < 2:\n",
    "        return \"Invalid Password\"\n",
    "    if len(re.findall(r'\\d', password)) < 1:\n",
    "        return \"Invalid Password\"\n",
    "    if len(re.findall(r'[!@#$%^&*()_+\\-=\\[\\]{};\\':\"\\\\|,.<>\\/?]', password)) < 3:\n",
    "        return \"Invalid Password\"\n",
    "    return \"Valid Password\"\n",
    "\n",
    "word = input(\"Enter the password: \")\n",
    "p = check_password(word)\n",
    "print(p)"
   ]
  },
  {
   "cell_type": "markdown",
   "id": "c5ddcfcf-be53-4eae-a038-b3bdfcfeb087",
   "metadata": {},
   "source": [
    "Q2. Solve the below-given questions using at least one of the following:\n",
    "1. Lambda function\n",
    "2. Filter function\n",
    "3. Zap function\n",
    "4. List Comprehension\n",
    "* Check if the string starts with a particular letter.\n",
    "* Check if the string is numeric.\n",
    "* Sort a list of tuples having fruit names and their quantity. [(\"mango\",99),(\"orange\",80), (\"grapes\", 1000)]\n",
    "* Find the squares of numbers from 1 to 10.\n",
    "* Find the cube root of numbers from 1 to 10.\n",
    "* Check if a given number is even.\n",
    "* Filter odd numbers from the given list.\n",
    "[1,2,3,4,5,6,7,8,9,10]\n",
    "* Sort a list of integers into positive and negative integers lists.\n",
    "[1,2,3,4,5,6,-1,-2,-3,-4,-5,0]"
   ]
  },
  {
   "cell_type": "code",
   "execution_count": 9,
   "id": "0bc1eb7d-1d6f-4037-93fb-fadd6c14305a",
   "metadata": {},
   "outputs": [
    {
     "name": "stdout",
     "output_type": "stream",
     "text": [
      "['banana']\n"
     ]
    }
   ],
   "source": [
    "#check if the string starts with a particular letter\n",
    "strings = [\"apple\", \"banana\", \"cherry\", \"date\"]\n",
    "letter = 'b'\n",
    "result = [s for s in strings if s.startswith(letter)]\n",
    "print(result)\n"
   ]
  },
  {
   "cell_type": "code",
   "execution_count": 10,
   "id": "e3aaab8e-de5c-4792-8653-4cc81fd63271",
   "metadata": {},
   "outputs": [
    {
     "name": "stdout",
     "output_type": "stream",
     "text": [
      "['123', '456', '789']\n"
     ]
    }
   ],
   "source": [
    "#check if the string is numeric\n",
    "strings = [\"123\", \"abc\", \"456\", \"789\"]\n",
    "result = list(filter(lambda s: s.isnumeric(), strings))\n",
    "print(result)\n"
   ]
  },
  {
   "cell_type": "code",
   "execution_count": 11,
   "id": "264f60c9-feb0-430e-a461-db18c5c73b52",
   "metadata": {},
   "outputs": [
    {
     "name": "stdout",
     "output_type": "stream",
     "text": [
      "[('orange', 80), ('mango', 99), ('grapes', 1000)]\n"
     ]
    }
   ],
   "source": [
    "#Sort a list of tuples having fruit names and their quantity.\n",
    "fruits = [(\"mango\",99),(\"orange\",80), (\"grapes\", 1000)]\n",
    "tup = sorted(fruits,key = lambda x:x[1])\n",
    "print(tup)"
   ]
  },
  {
   "cell_type": "code",
   "execution_count": 12,
   "id": "f3e0f31c-288f-4a5d-b268-250363553f0b",
   "metadata": {},
   "outputs": [
    {
     "name": "stdout",
     "output_type": "stream",
     "text": [
      "1\n",
      "4\n",
      "9\n",
      "16\n",
      "25\n",
      "36\n",
      "49\n",
      "64\n",
      "81\n",
      "100\n"
     ]
    }
   ],
   "source": [
    "# Find the squares of numbers from 1 to 10.\n",
    "sq = [i**2 for i in range(1,11)]\n",
    "for i in sq:\n",
    "    print(i)"
   ]
  },
  {
   "cell_type": "code",
   "execution_count": 14,
   "id": "8c862126-af2f-484d-97e3-8237e48d0c14",
   "metadata": {},
   "outputs": [
    {
     "name": "stdout",
     "output_type": "stream",
     "text": [
      "1.0\n",
      "1.2599210498948732\n",
      "1.4422495703074083\n",
      "1.5874010519681994\n",
      "1.7099759466766968\n",
      "1.8171205928321397\n",
      "1.912931182772389\n",
      "2.0\n",
      "2.080083823051904\n",
      "2.154434690031884\n"
     ]
    }
   ],
   "source": [
    "#Find the cube root of numbers from 1 to 10.\n",
    "cubroot = [i**(1/3) for i in range(1,11)]\n",
    "for i in cubroot:\n",
    "    print(i)"
   ]
  },
  {
   "cell_type": "code",
   "execution_count": 16,
   "id": "026df8ed-f2af-423d-9128-25bb444e0099",
   "metadata": {},
   "outputs": [
    {
     "name": "stdin",
     "output_type": "stream",
     "text": [
      "Enter the number:  7\n"
     ]
    },
    {
     "name": "stdout",
     "output_type": "stream",
     "text": [
      "False\n"
     ]
    }
   ],
   "source": [
    "# Check if a given number is even.\n",
    "num = int(input(\"Enter the number: \"))\n",
    "is_even = lambda x: x%2==0\n",
    "result = is_even(num)\n",
    "print(result)"
   ]
  },
  {
   "cell_type": "code",
   "execution_count": 23,
   "id": "59799783-f7ce-4d0b-bfd5-b38c38324167",
   "metadata": {},
   "outputs": [
    {
     "name": "stdout",
     "output_type": "stream",
     "text": [
      "[1, 3, 5, 7, 9]\n"
     ]
    }
   ],
   "source": [
    "# Filter odd numbers from the given list.\n",
    "num =[ 1,2,3,4,5,6,7,8,9,10]\n",
    "odd_num = [i for i in num if i % 2 !=0]\n",
    "print(odd_num)"
   ]
  },
  {
   "cell_type": "code",
   "execution_count": 22,
   "id": "e71442dd-3338-4e28-8639-108aa783c6af",
   "metadata": {},
   "outputs": [
    {
     "name": "stdout",
     "output_type": "stream",
     "text": [
      "[1, 3, 5, 7, 9]\n"
     ]
    }
   ],
   "source": [
    "num =[1,2,3,4,5,6,7,8,9,10]\n",
    "odd_num = list(filter(lambda x: x%2 != 0,num))\n",
    "print(odd_num)"
   ]
  },
  {
   "cell_type": "code",
   "execution_count": 24,
   "id": "6db23459-4057-4492-a2f1-469fbaa34a27",
   "metadata": {},
   "outputs": [
    {
     "name": "stdout",
     "output_type": "stream",
     "text": [
      "[-1, -2, -3, -4, -5]\n",
      "[1, 2, 3, 4, 5, 6]\n"
     ]
    }
   ],
   "source": [
    "# Sort a list of integers into positive and negative integers lists.\n",
    "integer = [1,2,3,4,5,6,-1,-2,-3,-4,-5,0]\n",
    "neg_int = [i for i in integer if i < 0]\n",
    "posi_int = [i for i in integer if i > 0]\n",
    "print(neg_int)\n",
    "print(posi_int)"
   ]
  },
  {
   "cell_type": "code",
   "execution_count": null,
   "id": "3886ee0e-264e-43ec-9b37-9c0d458fb34f",
   "metadata": {},
   "outputs": [],
   "source": []
  }
 ],
 "metadata": {
  "kernelspec": {
   "display_name": "Python 3 (ipykernel)",
   "language": "python",
   "name": "python3"
  },
  "language_info": {
   "codemirror_mode": {
    "name": "ipython",
    "version": 3
   },
   "file_extension": ".py",
   "mimetype": "text/x-python",
   "name": "python",
   "nbconvert_exporter": "python",
   "pygments_lexer": "ipython3",
   "version": "3.10.8"
  }
 },
 "nbformat": 4,
 "nbformat_minor": 5
}
